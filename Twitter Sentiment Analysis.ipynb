{
 "cells": [
  {
   "cell_type": "markdown",
   "metadata": {},
   "source": [
    "* happy.txt contains 80 tweets that are happy (positive),\n",
    "* sad.txt contains 80 tweets that are sad (negative).\n",
    "* happy_test.txt and sad_test.txt contains 10 positive\n",
    "* and 10 negative tweets respectively to test the classifier."
   ]
  },
  {
   "cell_type": "code",
   "execution_count": 1,
   "metadata": {},
   "outputs": [],
   "source": [
    "import nltk\n",
    "from nltk.classify.naivebayes import NaiveBayesClassifier"
   ]
  },
  {
   "cell_type": "code",
   "execution_count": 2,
   "metadata": {},
   "outputs": [],
   "source": [
    "def get_words_in_tweets(tweets):\n",
    "    all_words = []\n",
    "    for (words, sentiment) in tweets:\n",
    "        all_words.extend(words)\n",
    "    return all_words"
   ]
  },
  {
   "cell_type": "code",
   "execution_count": 3,
   "metadata": {},
   "outputs": [],
   "source": [
    "def get_word_features(wordlist):\n",
    "    wordlist = nltk.FreqDist(wordlist)\n",
    "    word_features = wordlist.keys()\n",
    "    return word_features"
   ]
  },
  {
   "cell_type": "code",
   "execution_count": 4,
   "metadata": {},
   "outputs": [],
   "source": [
    "def read_tweets(fname, t_type):\n",
    "    tweets = []\n",
    "    f = open(fname, 'r')\n",
    "    line = f.readline()\n",
    "    while line != '':\n",
    "        tweets.append([line, t_type])\n",
    "        line = f.readline()\n",
    "    f.close()\n",
    "    return tweets"
   ]
  },
  {
   "cell_type": "code",
   "execution_count": 5,
   "metadata": {},
   "outputs": [],
   "source": [
    "def extract_features(document):\n",
    "    document_words = set(document)\n",
    "    features = {}\n",
    "    for word in word_features:\n",
    "        features['contains(%s)' % word] = (word in document_words)\n",
    "    return features"
   ]
  },
  {
   "cell_type": "code",
   "execution_count": 6,
   "metadata": {},
   "outputs": [],
   "source": [
    "def classify_tweet(tweet):\n",
    "    return classifier.classify(extract_features(nltk.word_tokenize(tweet)))"
   ]
  },
  {
   "cell_type": "code",
   "execution_count": 7,
   "metadata": {},
   "outputs": [],
   "source": [
    "# read in postive and negative training tweets\n",
    "pos_tweets = read_tweets('dataset/happy.txt', 'positive')\n",
    "neg_tweets = read_tweets('dataset/sad.txt', 'negative')"
   ]
  },
  {
   "cell_type": "code",
   "execution_count": 8,
   "metadata": {},
   "outputs": [],
   "source": [
    "# filter away words that are less than 3 letters to form the training data\n",
    "tweets = []\n",
    "for (words, sentiment) in pos_tweets + neg_tweets:\n",
    "    words_filtered = [e.lower() for e in words.split() if len(e) >= 3]\n",
    "    tweets.append((words_filtered, sentiment))"
   ]
  },
  {
   "cell_type": "code",
   "execution_count": 9,
   "metadata": {},
   "outputs": [],
   "source": [
    "# extract the word features out from the training data\n",
    "word_features = get_word_features(\\\n",
    "                    get_words_in_tweets(tweets))"
   ]
  },
  {
   "cell_type": "code",
   "execution_count": 10,
   "metadata": {},
   "outputs": [],
   "source": [
    "# get the training set and train the Naive Bayes Classifier\n",
    "training_set = nltk.classify.util.apply_features(extract_features, tweets)\n",
    "classifier = NaiveBayesClassifier.train(training_set)"
   ]
  },
  {
   "cell_type": "code",
   "execution_count": 11,
   "metadata": {},
   "outputs": [],
   "source": [
    "# read in the test tweets and check accuracy\n",
    "# to add your own test tweets, add them in the respective files\n",
    "test_tweets = read_tweets('dataset/happy_test.txt', 'positive')\n",
    "test_tweets.extend(read_tweets('dataset/sad_test.txt', 'negative'))\n",
    "total = accuracy = float(len(test_tweets))"
   ]
  },
  {
   "cell_type": "code",
   "execution_count": 12,
   "metadata": {},
   "outputs": [
    {
     "name": "stdout",
     "output_type": "stream",
     "text": [
      "Total accuracy: 90.000000% (18/20).\n"
     ]
    }
   ],
   "source": [
    "for tweet in test_tweets:\n",
    "    if classify_tweet(tweet[0]) != tweet[1]:\n",
    "        accuracy -= 1\n",
    "\n",
    "print('Total accuracy: %f%% (%d/20).' % (accuracy / total * 100, accuracy))"
   ]
  }
 ],
 "metadata": {
  "kernelspec": {
   "display_name": "Python 3",
   "language": "python",
   "name": "python3"
  },
  "language_info": {
   "codemirror_mode": {
    "name": "ipython",
    "version": 3
   },
   "file_extension": ".py",
   "mimetype": "text/x-python",
   "name": "python",
   "nbconvert_exporter": "python",
   "pygments_lexer": "ipython3",
   "version": "3.6.4"
  }
 },
 "nbformat": 4,
 "nbformat_minor": 2
}
